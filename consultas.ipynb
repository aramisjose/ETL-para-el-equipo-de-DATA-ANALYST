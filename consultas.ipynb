{
 "cells": [
  {
   "attachments": {},
   "cell_type": "markdown",
   "metadata": {},
   "source": [
    "    Este cuaderno contiene las diferentes consultas requeridas por el analista de datos."
   ]
  },
  {
   "attachments": {},
   "cell_type": "markdown",
   "metadata": {},
   "source": [
    "    Cabe destacar que en este cuaderno solo se harán las consultas en forma de prueba, ya al hacer el scrip para la api, se copiaran las consultas  de este notebook"
   ]
  },
  {
   "cell_type": "code",
   "execution_count": 4,
   "metadata": {},
   "outputs": [],
   "source": [
    "#Importamos las librerias a utilizar\n",
    "import pandas as pd\n",
    "import numpy as np"
   ]
  },
  {
   "cell_type": "code",
   "execution_count": 5,
   "metadata": {},
   "outputs": [],
   "source": [
    "#Extrames el csv creado en el cuaderno de transformaciones\n",
    "data = pd.read_csv('data_plataformas.csv')"
   ]
  },
  {
   "cell_type": "code",
   "execution_count": 6,
   "metadata": {},
   "outputs": [
    {
     "data": {
      "text/html": [
       "<div>\n",
       "<style scoped>\n",
       "    .dataframe tbody tr th:only-of-type {\n",
       "        vertical-align: middle;\n",
       "    }\n",
       "\n",
       "    .dataframe tbody tr th {\n",
       "        vertical-align: top;\n",
       "    }\n",
       "\n",
       "    .dataframe thead th {\n",
       "        text-align: right;\n",
       "    }\n",
       "</style>\n",
       "<table border=\"1\" class=\"dataframe\">\n",
       "  <thead>\n",
       "    <tr style=\"text-align: right;\">\n",
       "      <th></th>\n",
       "      <th>show_id</th>\n",
       "      <th>type</th>\n",
       "      <th>title</th>\n",
       "      <th>director</th>\n",
       "      <th>cast</th>\n",
       "      <th>country</th>\n",
       "      <th>date_added</th>\n",
       "      <th>release_year</th>\n",
       "      <th>rating</th>\n",
       "      <th>duration</th>\n",
       "      <th>listed_in</th>\n",
       "      <th>description</th>\n",
       "      <th>score</th>\n",
       "      <th>duration_int</th>\n",
       "      <th>duration_type</th>\n",
       "    </tr>\n",
       "  </thead>\n",
       "  <tbody>\n",
       "    <tr>\n",
       "      <th>0</th>\n",
       "      <td>as1</td>\n",
       "      <td>movie</td>\n",
       "      <td>the grand seduction</td>\n",
       "      <td>don mckellar</td>\n",
       "      <td>brendan gleeson, taylor kitsch, gordon pinsent</td>\n",
       "      <td>canada</td>\n",
       "      <td>2021-03-30</td>\n",
       "      <td>2014</td>\n",
       "      <td>G</td>\n",
       "      <td>113 min</td>\n",
       "      <td>comedy, drama</td>\n",
       "      <td>a small fishing village must procure a local d...</td>\n",
       "      <td>99</td>\n",
       "      <td>113.0</td>\n",
       "      <td>min</td>\n",
       "    </tr>\n",
       "    <tr>\n",
       "      <th>1</th>\n",
       "      <td>as2</td>\n",
       "      <td>movie</td>\n",
       "      <td>take care good night</td>\n",
       "      <td>girish joshi</td>\n",
       "      <td>mahesh manjrekar, abhay mahajan, sachin khedekar</td>\n",
       "      <td>india</td>\n",
       "      <td>2021-03-30</td>\n",
       "      <td>2018</td>\n",
       "      <td>13+</td>\n",
       "      <td>110 min</td>\n",
       "      <td>drama, international</td>\n",
       "      <td>a metro family decides to fight a cyber crimin...</td>\n",
       "      <td>37</td>\n",
       "      <td>110.0</td>\n",
       "      <td>min</td>\n",
       "    </tr>\n",
       "    <tr>\n",
       "      <th>2</th>\n",
       "      <td>as3</td>\n",
       "      <td>movie</td>\n",
       "      <td>secrets of deception</td>\n",
       "      <td>josh webber</td>\n",
       "      <td>tom sizemore, lorenzo lamas, robert lasardo, r...</td>\n",
       "      <td>united states</td>\n",
       "      <td>2021-03-30</td>\n",
       "      <td>2017</td>\n",
       "      <td>G</td>\n",
       "      <td>74 min</td>\n",
       "      <td>action, drama, suspense</td>\n",
       "      <td>after a man discovers his wife is cheating on ...</td>\n",
       "      <td>20</td>\n",
       "      <td>74.0</td>\n",
       "      <td>min</td>\n",
       "    </tr>\n",
       "    <tr>\n",
       "      <th>3</th>\n",
       "      <td>as4</td>\n",
       "      <td>movie</td>\n",
       "      <td>pink: staying true</td>\n",
       "      <td>sonia anderson</td>\n",
       "      <td>interviews with: pink, adele, beyoncé, britney...</td>\n",
       "      <td>united states</td>\n",
       "      <td>2021-03-30</td>\n",
       "      <td>2014</td>\n",
       "      <td>G</td>\n",
       "      <td>69 min</td>\n",
       "      <td>documentary</td>\n",
       "      <td>pink breaks the mold once again, bringing her ...</td>\n",
       "      <td>27</td>\n",
       "      <td>69.0</td>\n",
       "      <td>min</td>\n",
       "    </tr>\n",
       "    <tr>\n",
       "      <th>4</th>\n",
       "      <td>as5</td>\n",
       "      <td>movie</td>\n",
       "      <td>monster maker</td>\n",
       "      <td>giles foster</td>\n",
       "      <td>harry dean stanton, kieran o'brien, george cos...</td>\n",
       "      <td>united kingdom</td>\n",
       "      <td>2021-03-30</td>\n",
       "      <td>1989</td>\n",
       "      <td>G</td>\n",
       "      <td>45 min</td>\n",
       "      <td>drama, fantasy</td>\n",
       "      <td>teenage matt banting wants to work with a famo...</td>\n",
       "      <td>75</td>\n",
       "      <td>45.0</td>\n",
       "      <td>min</td>\n",
       "    </tr>\n",
       "  </tbody>\n",
       "</table>\n",
       "</div>"
      ],
      "text/plain": [
       "  show_id   type                 title        director  \\\n",
       "0     as1  movie   the grand seduction    don mckellar   \n",
       "1     as2  movie  take care good night    girish joshi   \n",
       "2     as3  movie  secrets of deception     josh webber   \n",
       "3     as4  movie    pink: staying true  sonia anderson   \n",
       "4     as5  movie         monster maker    giles foster   \n",
       "\n",
       "                                                cast         country  \\\n",
       "0     brendan gleeson, taylor kitsch, gordon pinsent          canada   \n",
       "1   mahesh manjrekar, abhay mahajan, sachin khedekar           india   \n",
       "2  tom sizemore, lorenzo lamas, robert lasardo, r...   united states   \n",
       "3  interviews with: pink, adele, beyoncé, britney...   united states   \n",
       "4  harry dean stanton, kieran o'brien, george cos...  united kingdom   \n",
       "\n",
       "   date_added  release_year rating duration                listed_in  \\\n",
       "0  2021-03-30          2014      G  113 min            comedy, drama   \n",
       "1  2021-03-30          2018    13+  110 min     drama, international   \n",
       "2  2021-03-30          2017      G   74 min  action, drama, suspense   \n",
       "3  2021-03-30          2014      G   69 min              documentary   \n",
       "4  2021-03-30          1989      G   45 min           drama, fantasy   \n",
       "\n",
       "                                         description  score  duration_int  \\\n",
       "0  a small fishing village must procure a local d...     99         113.0   \n",
       "1  a metro family decides to fight a cyber crimin...     37         110.0   \n",
       "2  after a man discovers his wife is cheating on ...     20          74.0   \n",
       "3  pink breaks the mold once again, bringing her ...     27          69.0   \n",
       "4  teenage matt banting wants to work with a famo...     75          45.0   \n",
       "\n",
       "  duration_type  \n",
       "0           min  \n",
       "1           min  \n",
       "2           min  \n",
       "3           min  \n",
       "4           min  "
      ]
     },
     "execution_count": 6,
     "metadata": {},
     "output_type": "execute_result"
    }
   ],
   "source": [
    "#vizualisamos\n",
    "data.head()"
   ]
  },
  {
   "cell_type": "code",
   "execution_count": 7,
   "metadata": {},
   "outputs": [
    {
     "name": "stdout",
     "output_type": "stream",
     "text": [
      "<class 'pandas.core.frame.DataFrame'>\n",
      "RangeIndex: 22998 entries, 0 to 22997\n",
      "Data columns (total 15 columns):\n",
      " #   Column         Non-Null Count  Dtype  \n",
      "---  ------         --------------  -----  \n",
      " 0   show_id        22998 non-null  object \n",
      " 1   type           22998 non-null  object \n",
      " 2   title          22998 non-null  object \n",
      " 3   director       14739 non-null  object \n",
      " 4   cast           17677 non-null  object \n",
      " 5   country        11499 non-null  object \n",
      " 6   date_added     13444 non-null  object \n",
      " 7   release_year   22998 non-null  int64  \n",
      " 8   rating         22998 non-null  object \n",
      " 9   duration       22516 non-null  object \n",
      " 10  listed_in      22998 non-null  object \n",
      " 11  description    22994 non-null  object \n",
      " 12  score          22998 non-null  int64  \n",
      " 13  duration_int   22516 non-null  float64\n",
      " 14  duration_type  22516 non-null  object \n",
      "dtypes: float64(1), int64(2), object(12)\n",
      "memory usage: 2.6+ MB\n"
     ]
    }
   ],
   "source": [
    "data.info()"
   ]
  },
  {
   "attachments": {},
   "cell_type": "markdown",
   "metadata": {},
   "source": [
    "Ya que las transformaciones estan hechas pasaremos de inmediato a crear funciones que realicen las consultas requeridas"
   ]
  },
  {
   "attachments": {},
   "cell_type": "markdown",
   "metadata": {},
   "source": [
    "* 1 Cantidad de veces que aparece una keyword en el título de peliculas/series, por plataforma"
   ]
  },
  {
   "cell_type": "code",
   "execution_count": 67,
   "metadata": {},
   "outputs": [],
   "source": [
    "#Creamos una funcion que retorne la cantidad de veces que aparece una keyword por plataforma\n",
    "\n",
    "def get_word_count(plataforma, keyword):\n",
    "    \n",
    "    #Acá creamos las condiciones de las consultas\n",
    "    try:\n",
    "        #pasamos los parametros ingresados por el usuario a solo minusculas \n",
    "        plataforma = plataforma.lower() #usamos la funcion lower para cambiar todo a minusculas en caso de que el usuario ingrese mayusculas\n",
    "        keyword = keyword.lower() ##usamos la funcion lower para cambiar todo a minusculas en caso de que el usuario ingrese mayusculas\n",
    "        \n",
    "        if plataforma == 'netflix':\n",
    "            veces = list(data['show_id'].str.contains('n') & data['title'].str.contains(keyword))\n",
    "            return plataforma, veces.count(True)\n",
    "        \n",
    "        elif plataforma == 'amazon':\n",
    "            veces = list(data['show_id'].str.contains('a') & data['title'].str.contains(keyword))\n",
    "            lista = []\n",
    "            for item in veces:\n",
    "                if item == True:\n",
    "                    lista = lista + [item]\n",
    "            return plataforma, len(lista)\n",
    "        \n",
    "        elif plataforma == 'hulu':\n",
    "            veces = lista(data['show_id'].str.contains('h') & data['title'].str.contains(keyword))\n",
    "            lista = []\n",
    "            for item in veces:\n",
    "                if item == True:\n",
    "                    lista = lista + [item]\n",
    "            return plataforma, len(lista)\n",
    "        \n",
    "        elif plataforma == 'disney':\n",
    "            veces = list(data['show_id'].str.contains('d') & data['title'].str.contains(keyword))\n",
    "            return plataforma, veces.count(True)\n",
    "        \n",
    "        else:\n",
    "            print('no existe esta plataforma de peliculas en la base de datos')\n",
    "    except:\n",
    "        print(\"Error en los parametros ingresados\")\n",
    "\n",
    "##Se hizo de dos formas las consultas de cuantas veces aparece la keyword, ambas formas dan el mismo resultado.\n",
    "    "
   ]
  },
  {
   "cell_type": "code",
   "execution_count": 68,
   "metadata": {},
   "outputs": [
    {
     "name": "stdout",
     "output_type": "stream",
     "text": [
      "Error en los parametros ingresados\n"
     ]
    }
   ],
   "source": [
    "get_word_count(11, 'Love')"
   ]
  },
  {
   "attachments": {},
   "cell_type": "markdown",
   "metadata": {},
   "source": [
    "* 2) Cantidad de películas por plataforma con un puntaje mayor a XX en determinado año"
   ]
  },
  {
   "cell_type": "code",
   "execution_count": 131,
   "metadata": {},
   "outputs": [],
   "source": [
    "\"\"\"\"Creamos la función que retorne la cantidad de peliculas que hay en la plataforma usando como parametros en la funcion, el año,\n",
    "puntaje > 20 y plataforma\"\"\"\n",
    "\n",
    "def get_score_count(plataforma,score,year):\n",
    "    try:\n",
    "        plataforma = plataforma.lower() #usamos la funcion lower para cambiar todo a minusculas en caso de que el usuario ingrese mayusculas\n",
    "        \n",
    "        if plataforma == 'netflix':\n",
    "            veces = data[(data['show_id'].str.contains('n')) & (data['score'] > score) & (data['release_year'] == year)]\n",
    "            return plataforma, len(veces)\n",
    "        \n",
    "        elif plataforma == 'amazon':\n",
    "            veces = data[(data['show_id'].str.contains('a')) & (data['score'] > score) & (data['release_year'] == year)]\n",
    "            return plataforma, len(veces)\n",
    "        \n",
    "        elif plataforma == 'hulu':\n",
    "            veces = data[(data['show_id'].str.contains('h')) & (data['score'] > score) & (data['release_year'] == year)]\n",
    "            return plataforma, len(veces)\n",
    "        \n",
    "        elif plataforma == 'disney':\n",
    "            veces = data[(data['show_id'].str.contains('d')) & (data['score'] > score) & (data['release_year'] == year)]\n",
    "            return plataforma, len(veces)\n",
    "        \n",
    "        else:\n",
    "            print('No existe esta plataforma en la base de datos')\n",
    "        \n",
    "    except:\n",
    "        print('Error, ha ingresado mal los parametros de la función')\n"
   ]
  },
  {
   "cell_type": "code",
   "execution_count": 140,
   "metadata": {},
   "outputs": [
    {
     "data": {
      "text/plain": [
       "('amazon', 146)"
      ]
     },
     "execution_count": 140,
     "metadata": {},
     "output_type": "execute_result"
    }
   ],
   "source": [
    "get_score_count('amazon',85,2020)"
   ]
  },
  {
   "attachments": {},
   "cell_type": "markdown",
   "metadata": {},
   "source": [
    "* 3) La segunda película con mayor score para una plataforma determinada, según el orden alfabético de los títulos."
   ]
  },
  {
   "attachments": {},
   "cell_type": "markdown",
   "metadata": {},
   "source": [
    " ya he intentado pero dentro de la columna titles hay caracteres especiales asi que aplicare una funcion que elimine estos caracteres especiales dentro del dataframe"
   ]
  },
  {
   "cell_type": "code",
   "execution_count": 154,
   "metadata": {},
   "outputs": [],
   "source": [
    "#importamos la libreria re para eliminar los caracteres especiales en la columna titles del dataframe\n",
    "import re"
   ]
  },
  {
   "cell_type": "code",
   "execution_count": 155,
   "metadata": {},
   "outputs": [],
   "source": [
    "#creamos la funcion que eliminara los caracteres especiales\n",
    "def remover_caracteres_especiales(texto):\n",
    "    return re.sub('[^A-Za-z0-9]+', ' ', texto)"
   ]
  },
  {
   "cell_type": "code",
   "execution_count": 156,
   "metadata": {},
   "outputs": [],
   "source": [
    "#aplicamos la funcion creada al dataframe en la columna titles\n",
    "\n",
    "data['title'] = data['title'].apply(remover_caracteres_especiales)"
   ]
  },
  {
   "cell_type": "code",
   "execution_count": 206,
   "metadata": {},
   "outputs": [],
   "source": [
    "\"\"\"Acá crearé una funcion con un solo parametro que será la plataforma ingresada por el usuario, la función retornará \n",
    "la segunda pelicula con mayor puntaje según un orden alfabetico\"\"\"\n",
    "\n",
    "def get_second_score(plataforma):\n",
    "    try:\n",
    "        plataforma = plataforma.lower() #cambiamos todo el parametro a minusculas esto es por si acaso el usuario ingresa alguna letra mayuscula\n",
    "        \n",
    "        if plataforma == 'netflix':\n",
    "            filtro = data[data['show_id'].str.contains('n')].sort_values(by=['score'], ascending=False)\n",
    "            return filtro.iloc[1,2], filtro.iloc[1,12]\n",
    "        \n",
    "        elif plataforma == 'disney':\n",
    "            filtro = data[data['show_id'].str.contains('d')].sort_values(by=['score'], ascending=False)\n",
    "            return filtro.iloc[1,2], filtro.iloc[1,12]\n",
    "        \n",
    "        elif plataforma == 'amazon':\n",
    "            filtro = data[data['show_id'].str.contains('a')].sort_values(by=['score'], ascending=False)\n",
    "            return filtro.iloc[1,2], filtro.iloc[1,12]\n",
    "        \n",
    "        elif plataforma == 'hulu':\n",
    "            filtro = data[data['show_id'].str.contains('h')].sort_values(by=['score'],ascending=False)\n",
    "            return filtro.iloc[1,2], filtro.iloc[1,12]\n",
    "        \n",
    "        else:\n",
    "            print(\"No existe la plataforma que ingresaste en la base de datos\")\n",
    "    except:\n",
    "        print(\"Error! ha ingresado mal el parametro\")\n"
   ]
  },
  {
   "cell_type": "code",
   "execution_count": 207,
   "metadata": {},
   "outputs": [
    {
     "data": {
      "text/plain": [
       "('the lazarus effect', 100)"
      ]
     },
     "execution_count": 207,
     "metadata": {},
     "output_type": "execute_result"
    }
   ],
   "source": [
    "get_second_score('amazon')"
   ]
  },
  {
   "attachments": {},
   "cell_type": "markdown",
   "metadata": {},
   "source": [
    "* 4) Película que más duró según año, plataforma y tipo de duración"
   ]
  },
  {
   "cell_type": "code",
   "execution_count": 230,
   "metadata": {},
   "outputs": [],
   "source": [
    "#Se creará una función que retorne la pelicula que más duró, según la plataforma que ingrese el usuario\n",
    "\n",
    "def get_longest(plataforma,time,year):\n",
    "    try:\n",
    "        plataforma = plataforma.lower() #normalizamos el parametro plataforma que ingrese el usuario a minusculas\n",
    "\n",
    "        if plataforma == 'netflix':\n",
    "            filtro = data[(data['show_id'].str.contains('n')) &\n",
    "                          (data['release_year'] == year) &\n",
    "                          (data['duration_type'] == time)].sort_values(by=['duration_int'], ascending=False)\n",
    "            return filtro.iloc[0]['title'], filtro.iloc[0]['duration_int'], filtro.iloc[0]['duration_type']\n",
    "        \n",
    "        elif plataforma == 'amazon':\n",
    "            filtro = data[(data['show_id'].str.contains('a')) &\n",
    "                          (data['release_year'] == year) &\n",
    "                          (data['duration_type'] == time)].sort_values(by=['duration_int'], ascending = False)\n",
    "            return filtro.iloc[0]['title'], filtro.iloc[0]['duration_int'], filtro.iloc[0]['duration_type']\n",
    "        \n",
    "        elif plataforma == 'hulu':\n",
    "            filtro = data[(data['show_id'].str.contains('h')) &\n",
    "                          (data['release_year'] == year) &\n",
    "                          (data['duration_type'] == time)].sort_values(by=['duration_int'], ascending=False)\n",
    "            return filtro.iloc[0]['title'], filtro.iloc[0]['duration_int'], filtro.iloc[0]['duration_type']\n",
    "        \n",
    "        elif plataforma == 'disney':\n",
    "            filtro = data[(data['show_id'].str.contains('d')) &\n",
    "                          (data['release_year'] == year) &\n",
    "                          (data['duration_type'] == time)].sort_values(by=['duration_int'], ascending=False)\n",
    "            return filtro.iloc[0]['title'], filtro[0]['duration_int'], filtro[0]['duration_type']\n",
    "        \n",
    "        else:\n",
    "            print(\"No existe la plataforma que ingresaste en la base de datos\")\n",
    "    except:\n",
    "        print(\"Error! ha ingresado mal los parametros.\")"
   ]
  },
  {
   "cell_type": "code",
   "execution_count": 231,
   "metadata": {},
   "outputs": [
    {
     "data": {
      "text/plain": [
       "('sairat', 173.0, 'min')"
      ]
     },
     "execution_count": 231,
     "metadata": {},
     "output_type": "execute_result"
    }
   ],
   "source": [
    "get_longest('netflix','min', 2016)"
   ]
  },
  {
   "attachments": {},
   "cell_type": "markdown",
   "metadata": {},
   "source": [
    "* 5) Cantidad de series y películas por rating"
   ]
  },
  {
   "cell_type": "code",
   "execution_count": 326,
   "metadata": {},
   "outputs": [],
   "source": [
    "#Creare la función que retorne la cantidad de series y peliculas por rating\n",
    "def get_rating_count(rating):\n",
    "    suma = 0\n",
    "    if data['rating'].isin([rating]).any():\n",
    "        for item in data['rating']:\n",
    "            if item == rating:\n",
    "                suma +=1  \n",
    "        return rating, suma\n",
    "    else:\n",
    "        return 'No existe el rating ingresado en la base de datos'\n",
    "    \n",
    "    "
   ]
  },
  {
   "cell_type": "code",
   "execution_count": 328,
   "metadata": {},
   "outputs": [
    {
     "data": {
      "text/plain": [
       "('18+', 1243)"
      ]
     },
     "execution_count": 328,
     "metadata": {},
     "output_type": "execute_result"
    }
   ],
   "source": [
    "get_rating_count('18+')"
   ]
  }
 ],
 "metadata": {
  "kernelspec": {
   "display_name": "Python 3",
   "language": "python",
   "name": "python3"
  },
  "language_info": {
   "codemirror_mode": {
    "name": "ipython",
    "version": 3
   },
   "file_extension": ".py",
   "mimetype": "text/x-python",
   "name": "python",
   "nbconvert_exporter": "python",
   "pygments_lexer": "ipython3",
   "version": "3.10.7"
  },
  "orig_nbformat": 4
 },
 "nbformat": 4,
 "nbformat_minor": 2
}
