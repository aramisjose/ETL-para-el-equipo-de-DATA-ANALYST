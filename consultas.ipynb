{
 "cells": [
  {
   "cell_type": "code",
   "execution_count": null,
   "metadata": {},
   "outputs": [],
   "source": [
    "import pandas as pd"
   ]
  },
  {
   "cell_type": "code",
   "execution_count": 2,
   "metadata": {},
   "outputs": [],
   "source": [
    "data = pd.read_csv('data_plataformas_movies.csv')"
   ]
  },
  {
   "cell_type": "code",
   "execution_count": 3,
   "metadata": {},
   "outputs": [
    {
     "name": "stdout",
     "output_type": "stream",
     "text": [
      "<class 'pandas.core.frame.DataFrame'>\n",
      "RangeIndex: 22998 entries, 0 to 22997\n",
      "Data columns (total 15 columns):\n",
      " #   Column         Non-Null Count  Dtype  \n",
      "---  ------         --------------  -----  \n",
      " 0   type           22998 non-null  object \n",
      " 1   title          22998 non-null  object \n",
      " 2   director       14739 non-null  object \n",
      " 3   cast           17677 non-null  object \n",
      " 4   country        11499 non-null  object \n",
      " 5   release_year   22998 non-null  int64  \n",
      " 6   rating         22998 non-null  object \n",
      " 7   duration       22516 non-null  object \n",
      " 8   listed_in      22998 non-null  object \n",
      " 9   description    22994 non-null  object \n",
      " 10  score          22998 non-null  int64  \n",
      " 11  id             22998 non-null  object \n",
      " 12  date_added     13444 non-null  object \n",
      " 13  duration_int   22516 non-null  float64\n",
      " 14  duration_type  22516 non-null  object \n",
      "dtypes: float64(1), int64(2), object(12)\n",
      "memory usage: 2.6+ MB\n"
     ]
    }
   ],
   "source": [
    "data.info()"
   ]
  },
  {
   "cell_type": "code",
   "execution_count": 4,
   "metadata": {},
   "outputs": [
    {
     "data": {
      "text/plain": [
       "type                 0\n",
       "title                0\n",
       "director          8259\n",
       "cast              5321\n",
       "country          11499\n",
       "release_year         0\n",
       "rating               0\n",
       "duration           482\n",
       "listed_in            0\n",
       "description          4\n",
       "score                0\n",
       "id                   0\n",
       "date_added        9554\n",
       "duration_int       482\n",
       "duration_type      482\n",
       "dtype: int64"
      ]
     },
     "execution_count": 4,
     "metadata": {},
     "output_type": "execute_result"
    }
   ],
   "source": [
    "data.isna().sum()"
   ]
  },
  {
   "cell_type": "code",
   "execution_count": 95,
   "metadata": {},
   "outputs": [
    {
     "data": {
      "text/html": [
       "<div>\n",
       "<style scoped>\n",
       "    .dataframe tbody tr th:only-of-type {\n",
       "        vertical-align: middle;\n",
       "    }\n",
       "\n",
       "    .dataframe tbody tr th {\n",
       "        vertical-align: top;\n",
       "    }\n",
       "\n",
       "    .dataframe thead th {\n",
       "        text-align: right;\n",
       "    }\n",
       "</style>\n",
       "<table border=\"1\" class=\"dataframe\">\n",
       "  <thead>\n",
       "    <tr style=\"text-align: right;\">\n",
       "      <th></th>\n",
       "      <th>type</th>\n",
       "      <th>title</th>\n",
       "      <th>director</th>\n",
       "      <th>cast</th>\n",
       "      <th>country</th>\n",
       "      <th>release_year</th>\n",
       "      <th>rating</th>\n",
       "      <th>duration</th>\n",
       "      <th>listed_in</th>\n",
       "      <th>description</th>\n",
       "      <th>score</th>\n",
       "      <th>id</th>\n",
       "      <th>date_added</th>\n",
       "      <th>duration_int</th>\n",
       "      <th>duration_type</th>\n",
       "    </tr>\n",
       "  </thead>\n",
       "  <tbody>\n",
       "    <tr>\n",
       "      <th>0</th>\n",
       "      <td>movie</td>\n",
       "      <td>the grand seduction</td>\n",
       "      <td>don mckellar</td>\n",
       "      <td>brendan gleeson, taylor kitsch, gordon pinsent</td>\n",
       "      <td>canada</td>\n",
       "      <td>2014</td>\n",
       "      <td>G</td>\n",
       "      <td>113 min</td>\n",
       "      <td>comedy, drama</td>\n",
       "      <td>a small fishing village must procure a local d...</td>\n",
       "      <td>99</td>\n",
       "      <td>as1</td>\n",
       "      <td>2021-03-30</td>\n",
       "      <td>113.0</td>\n",
       "      <td>min</td>\n",
       "    </tr>\n",
       "    <tr>\n",
       "      <th>1</th>\n",
       "      <td>movie</td>\n",
       "      <td>take care good night</td>\n",
       "      <td>girish joshi</td>\n",
       "      <td>mahesh manjrekar, abhay mahajan, sachin khedekar</td>\n",
       "      <td>india</td>\n",
       "      <td>2018</td>\n",
       "      <td>13+</td>\n",
       "      <td>110 min</td>\n",
       "      <td>drama, international</td>\n",
       "      <td>a metro family decides to fight a cyber crimin...</td>\n",
       "      <td>37</td>\n",
       "      <td>as2</td>\n",
       "      <td>2021-03-30</td>\n",
       "      <td>110.0</td>\n",
       "      <td>min</td>\n",
       "    </tr>\n",
       "    <tr>\n",
       "      <th>2</th>\n",
       "      <td>movie</td>\n",
       "      <td>secrets of deception</td>\n",
       "      <td>josh webber</td>\n",
       "      <td>tom sizemore, lorenzo lamas, robert lasardo, r...</td>\n",
       "      <td>united states</td>\n",
       "      <td>2017</td>\n",
       "      <td>G</td>\n",
       "      <td>74 min</td>\n",
       "      <td>action, drama, suspense</td>\n",
       "      <td>after a man discovers his wife is cheating on ...</td>\n",
       "      <td>20</td>\n",
       "      <td>as3</td>\n",
       "      <td>2021-03-30</td>\n",
       "      <td>74.0</td>\n",
       "      <td>min</td>\n",
       "    </tr>\n",
       "  </tbody>\n",
       "</table>\n",
       "</div>"
      ],
      "text/plain": [
       "    type                 title      director  \\\n",
       "0  movie   the grand seduction  don mckellar   \n",
       "1  movie  take care good night  girish joshi   \n",
       "2  movie  secrets of deception   josh webber   \n",
       "\n",
       "                                                cast        country  \\\n",
       "0     brendan gleeson, taylor kitsch, gordon pinsent         canada   \n",
       "1   mahesh manjrekar, abhay mahajan, sachin khedekar          india   \n",
       "2  tom sizemore, lorenzo lamas, robert lasardo, r...  united states   \n",
       "\n",
       "   release_year rating duration                listed_in  \\\n",
       "0          2014      G  113 min            comedy, drama   \n",
       "1          2018    13+  110 min     drama, international   \n",
       "2          2017      G   74 min  action, drama, suspense   \n",
       "\n",
       "                                         description  score   id  date_added  \\\n",
       "0  a small fishing village must procure a local d...     99  as1  2021-03-30   \n",
       "1  a metro family decides to fight a cyber crimin...     37  as2  2021-03-30   \n",
       "2  after a man discovers his wife is cheating on ...     20  as3  2021-03-30   \n",
       "\n",
       "   duration_int duration_type  \n",
       "0         113.0           min  \n",
       "1         110.0           min  \n",
       "2          74.0           min  "
      ]
     },
     "execution_count": 95,
     "metadata": {},
     "output_type": "execute_result"
    }
   ],
   "source": [
    "data.head(3)"
   ]
  },
  {
   "attachments": {},
   "cell_type": "markdown",
   "metadata": {},
   "source": [
    "Cantidad de veces que aparece una keyword en el título de peliculas/series, por plataforma"
   ]
  },
  {
   "cell_type": "code",
   "execution_count": 334,
   "metadata": {},
   "outputs": [],
   "source": [
    "def get_word_count(plataforma,keyword):\n",
    "    parametro1 = plataforma.lower()\n",
    "    if parametro1 == 'nexflix' or parametro1 == 'neflix':\n",
    "        lista = list(data['id'].str.contains('n') & data['title'].str.contains(keyword))\n",
    "        lista2 = []\n",
    "        for item in lista:\n",
    "            if item == True:\n",
    "                lista2 = lista2 + [item]\n",
    "        return parametro1, len(lista2)\n",
    "    elif parametro1 == 'amazon':\n",
    "        lista = list(data['id'].str.contains('a') & data['title'].str.contains(keyword))\n",
    "        lista2 = []\n",
    "        for item in lista:\n",
    "            if item == True:\n",
    "                lista2 = lista2 + [item]\n",
    "        return parametro1, len(lista2)\n",
    "    elif parametro1 == 'hulu':\n",
    "        lista = list(data['id'].str.contains('h') & data['title'].str.contains(keyword))\n",
    "        lista2 = []\n",
    "        for item in lista:\n",
    "            if item == True:\n",
    "                lista2 = lista2 + [item]\n",
    "        return parametro1, len(lista2)\n",
    "    elif parametro1 == 'disney':\n",
    "        lista = list(data['id'].str.contains('d') & data['title'].str.contains(keyword))\n",
    "        lista2 = []\n",
    "        for item in lista:\n",
    "            if item == True:\n",
    "                lista2 = lista2 + [item]\n",
    "        return parametro1, len(lista2)\n",
    "    else:\n",
    "        return 'No existe la plataforma que buscas en nuestra base de datos'\n",
    "    "
   ]
  },
  {
   "cell_type": "code",
   "execution_count": 439,
   "metadata": {},
   "outputs": [
    {
     "data": {
      "text/plain": [
       "('nexflix', 6)"
      ]
     },
     "execution_count": 439,
     "metadata": {},
     "output_type": "execute_result"
    }
   ],
   "source": [
    "get_word_count('nexflix','action')"
   ]
  },
  {
   "cell_type": "code",
   "execution_count": null,
   "metadata": {},
   "outputs": [],
   "source": [
    "def dividir(dividendo, divisor):\n",
    "    try:\n",
    "        resultado = dividendo / divisor\n",
    "        return resultado\n",
    "    except ZeroDivisionError:\n",
    "        raise ZeroDivisionError(\"El divisor no puede ser cero\")"
   ]
  },
  {
   "attachments": {},
   "cell_type": "markdown",
   "metadata": {},
   "source": [
    "Cantidad de películas por plataforma con un puntaje mayor a XX en determinado año"
   ]
  },
  {
   "cell_type": "code",
   "execution_count": 336,
   "metadata": {},
   "outputs": [],
   "source": [
    "def get_score_count(plataforma,puntaje,anio):\n",
    "    parametro1 = plataforma.lower()\n",
    "    if parametro1 == 'nexflix' or parametro1 == 'neflix':\n",
    "        data_filtro = data[(data['id'].str.contains('n')) & (data['score'] > puntaje)]\n",
    "        data_filtro2 = data_filtro['release_year']\n",
    "        lista_anios = list(data_filtro2)\n",
    "        lista = []\n",
    "        for item in lista_anios:\n",
    "            if item == anio:\n",
    "                lista = lista + [item]\n",
    "        return parametro1, len(lista)\n",
    "    elif parametro1 == 'hulu':\n",
    "        data_filtro = data[(data['id'].str.contains('h')) & (data['score'] > puntaje)]\n",
    "        data_filtro2 = data_filtro['release_year']\n",
    "        lista_anios = list(data_filtro2)\n",
    "        lista = []\n",
    "        for item in lista_anios:\n",
    "            if item == anio:\n",
    "                lista = lista + [item]\n",
    "        return parametro1, len(lista)\n",
    "    elif parametro1 == 'disney':\n",
    "        data_filtro = data[(data['id'].str.contains('d')) & (data['score'] > puntaje)]\n",
    "        data_filtro2 = data_filtro['release_year']\n",
    "        lista_anios = list(data_filtro2)\n",
    "        lista = []\n",
    "        for item in lista_anios:\n",
    "            if item == anio:\n",
    "                lista = lista + [item]\n",
    "        return parametro1, len(lista)\n",
    "    elif parametro1 == 'amazon':\n",
    "        data_filtro = data[(data['id'].str.contains('a')) & (data['score'] > puntaje)]\n",
    "        data_filtro2 = data_filtro['release_year']\n",
    "        lista_anios = list(data_filtro2)\n",
    "        lista = []\n",
    "        for item in lista_anios:\n",
    "            if item == anio:\n",
    "                lista = lista + [item]\n",
    "        return parametro1, len(lista)\n",
    "    else:\n",
    "        return 'No existe la plataforma que ingresaste en nuestra base de datos'"
   ]
  },
  {
   "cell_type": "code",
   "execution_count": 337,
   "metadata": {},
   "outputs": [
    {
     "data": {
      "text/plain": [
       "('nexflix', 25)"
      ]
     },
     "execution_count": 337,
     "metadata": {},
     "output_type": "execute_result"
    }
   ],
   "source": [
    "get_score_count('nexflix',85,2010)"
   ]
  },
  {
   "attachments": {},
   "cell_type": "markdown",
   "metadata": {},
   "source": [
    "La segunda película con mayor score para una plataforma determinada, según el orden alfabético de los títulos. "
   ]
  },
  {
   "cell_type": "code",
   "execution_count": 339,
   "metadata": {},
   "outputs": [],
   "source": [
    "def get_second_score(plataforma):\n",
    "    parametro = plataforma.lower()\n",
    "    if parametro == 'nexflix' or plataforma == 'neflix':\n",
    "        data_filtrado = data[(data['id'].str.contains('n'))]\n",
    "        data_filtrado2 = data_filtrado[(data_filtrado['type'] == 'movie')]\n",
    "        df_filtrado3 = data_filtrado2.sort_values('title',ascending=True)\n",
    "        pelicula = df_filtrado3.iloc[1]['title']\n",
    "        puntaje = df_filtrado3.iloc[1]['score']\n",
    "        return pelicula, puntaje\n",
    "    elif parametro == 'amazon':\n",
    "        data_filtrado = data[(data['id'].str.contains('a'))]\n",
    "        data_filtrado2 = data_filtrado[(data_filtrado['type'] == 'movie')]\n",
    "        df_filtrado3 = data_filtrado2.sort_values('title',ascending=True)\n",
    "        pelicula = df_filtrado3.iloc[1]['title']\n",
    "        puntaje = df_filtrado3.iloc[1]['score']\n",
    "        return pelicula, puntaje\n",
    "    elif parametro == 'hulu':\n",
    "        data_filtrado = data[(data['id'].str.contains('h'))]\n",
    "        data_filtrado2 = data_filtrado[(data_filtrado['type'] == 'movie')]\n",
    "        df_filtrado3 = data_filtrado2.sort_values('title',ascending=True)\n",
    "        puntaje = df_filtrado3.iloc[1]['score']\n",
    "        pelicula = df_filtrado3.iloc[1]['title']\n",
    "        return pelicula, puntaje\n",
    "    elif parametro == 'disney':\n",
    "        data_filtrado = data[(data['id'].str.contains('d'))]\n",
    "        data_filtrado2 = data_filtrado[(data_filtrado['type'] == 'movie')]\n",
    "        df_filtrado3 = data_filtrado2.sort_values('title',ascending=True)\n",
    "        pelicula = df_filtrado3.iloc[1]['title']\n",
    "        puntaje = df_filtrado3.iloc[1]['score']\n",
    "        return pelicula, puntaje\n",
    "    else:\n",
    "        return 'No existe la plataforma que ingresaste en nuestra base de datos'\n"
   ]
  },
  {
   "cell_type": "code",
   "execution_count": 340,
   "metadata": {},
   "outputs": [
    {
     "data": {
      "text/plain": [
       "('#annefrank - parallel stories', 15)"
      ]
     },
     "execution_count": 340,
     "metadata": {},
     "output_type": "execute_result"
    }
   ],
   "source": [
    "get_second_score('nexflix')"
   ]
  },
  {
   "attachments": {},
   "cell_type": "markdown",
   "metadata": {},
   "source": [
    "Película que más duró según año, plataforma y tipo de duración"
   ]
  },
  {
   "cell_type": "code",
   "execution_count": 367,
   "metadata": {},
   "outputs": [],
   "source": [
    "def get_longest(plataforma,min,anio):\n",
    "    parametro = plataforma.lower()\n",
    "    if parametro == 'nexflix':\n",
    "        data_filtrado = data[(data['id'].str.contains('n'))]\n",
    "        data_filtrado2 = data_filtrado[(data_filtrado['type'] == 'movie')]\n",
    "        data_filtrado3 = data_filtrado2[(data_filtrado2['release_year'] == anio)]\n",
    "        data_filter4 = data_filtrado3.sort_values('duration_int',ascending=False)\n",
    "        titulo = data_filter4.iloc[0]['title']\n",
    "        tiempo = data_filter4.iloc[0]['duration_int']\n",
    "        tipo_duracion = data_filter4.iloc[0]['duration_type']\n",
    "        return titulo, tiempo, tipo_duracion\n",
    "    if parametro == 'hulu':\n",
    "        data_filtrado = data[(data['id'].str.contains('h'))]\n",
    "        data_filtrado2 = data_filtrado[(data_filtrado['type'] == 'movie')]\n",
    "        data_filtrado3 = data_filtrado2[(data_filtrado2['release_year'] == anio)]\n",
    "        data_filter4 = data_filtrado3.sort_values('duration_int',ascending=False)\n",
    "        titulo = data_filter4.iloc[0]['title']\n",
    "        tiempo = data_filter4.iloc[0]['duration_int']\n",
    "        tipo_duracion = data_filter4.iloc[0]['duration_type']\n",
    "        return titulo, tiempo, tipo_duracion\n",
    "    if parametro == 'disney':\n",
    "        data_filtrado = data[(data['id'].str.contains('d'))]\n",
    "        data_filtrado2 = data_filtrado[(data_filtrado['type'] == 'movie')]\n",
    "        data_filtrado3 = data_filtrado2[(data_filtrado2['release_year'] == anio)]\n",
    "        data_filter4 = data_filtrado3.sort_values('duration_int',ascending=False)\n",
    "        titulo = data_filter4.iloc[0]['title']\n",
    "        tiempo = data_filter4.iloc[0]['duration_int']\n",
    "        tipo_duracion = data_filter4.iloc[0]['duration_type']\n",
    "        return titulo, tiempo, tipo_duracion\n",
    "    if parametro == 'amazon':\n",
    "        data_filtrado = data[(data['id'].str.contains('a'))]\n",
    "        data_filtrado2 = data_filtrado[(data_filtrado['type'] == 'movie')]\n",
    "        data_filtrado3 = data_filtrado2[(data_filtrado2['release_year'] == anio)]\n",
    "        data_filter4 = data_filtrado3.sort_values('duration_int',ascending=False)\n",
    "        titulo = data_filter4.iloc[0]['title']\n",
    "        tiempo = data_filter4.iloc[0]['duration_int']\n",
    "        tipo_duracion = data_filter4.iloc[0]['duration_type']\n",
    "        return titulo, tiempo, tipo_duracion\n",
    "    else:\n",
    "        return 'No existe la plataforma que ingresaste en nuestra base de datos'\n",
    "        "
   ]
  },
  {
   "cell_type": "code",
   "execution_count": 440,
   "metadata": {},
   "outputs": [
    {
     "data": {
      "text/plain": [
       "('gentle evening rain', 541.0, 'min')"
      ]
     },
     "execution_count": 440,
     "metadata": {},
     "output_type": "execute_result"
    }
   ],
   "source": [
    "get_longest('amazon','tiempo',2016)"
   ]
  },
  {
   "attachments": {},
   "cell_type": "markdown",
   "metadata": {},
   "source": [
    "Cantidad de series y películas por rating"
   ]
  },
  {
   "cell_type": "code",
   "execution_count": 384,
   "metadata": {},
   "outputs": [],
   "source": [
    "data2 = data['rating']"
   ]
  },
  {
   "cell_type": "code",
   "execution_count": 386,
   "metadata": {},
   "outputs": [],
   "source": [
    "data2.drop_duplicates(inplace=True)"
   ]
  },
  {
   "cell_type": "code",
   "execution_count": 388,
   "metadata": {},
   "outputs": [],
   "source": [
    "data2 = list(data2)"
   ]
  },
  {
   "cell_type": "code",
   "execution_count": 389,
   "metadata": {},
   "outputs": [
    {
     "name": "stdout",
     "output_type": "stream",
     "text": [
      "['G', '13+', 'ALL', '18+', 'R', 'TV-Y', 'TV-Y7', 'NR', '16+', 'TV-PG', '7+', 'TV-14', 'TV-NR', 'TV-G', 'PG-13', 'TV-MA', 'PG', 'NC-17', 'UNRATED', '16', 'AGES_16_', 'AGES_18_', 'ALL_AGES', 'NOT_RATE', 'TV-Y7-FV', 'NOT RATED', '2 Seasons', '93 min', '4 Seasons', '136 min', '91 min', '85 min', '98 min', '89 min', '94 min', '86 min', '3 Seasons', '121 min', '88 min', '101 min', '1 Season', '83 min', '100 min', '95 min', '92 min', '96 min', '109 min', '99 min', '75 min', '87 min', '67 min', '104 min', '107 min', '84 min', '103 min', '105 min', '119 min', '114 min', '82 min', '90 min', '130 min', '110 min', '80 min', '6 Seasons', '97 min', '111 min', '81 min', '49 min', '45 min', '41 min', '73 min', '40 min', '36 min', '39 min', '34 min', '47 min', '65 min', '37 min', '78 min', '102 min', '129 min', '115 min', '112 min', '61 min', '106 min', '76 min', '77 min', '79 min', '157 min', '28 min', '64 min', '7 min', '5 min', '6 min', '127 min', '142 min', '108 min', '57 min', '118 min', '116 min', '12 Seasons', '71 min', '74 min', '66 min', 'UR']\n"
     ]
    }
   ],
   "source": [
    "print(data2)"
   ]
  },
  {
   "cell_type": "code",
   "execution_count": 429,
   "metadata": {},
   "outputs": [],
   "source": [
    "def get_rating_count(rating):\n",
    "    rating1 = rating\n",
    "    if rating == 'G':\n",
    "        data_filtrado = data[(data['rating'] == 'G')]\n",
    "        return rating1, len(data_filtrado)\n",
    "    elif rating == '18+':\n",
    "        data_filtrado = data[(data['rating'] == '18+')]\n",
    "        return rating1, len(data_filtrado)\n",
    "    elif rating == '13+':\n",
    "        data_filtrado = data[(data['rating'] == '13+')]\n",
    "        return rating1, len(data_filtrado)\n",
    "    elif rating == 'ALL':\n",
    "        data_filtrado = data[(data['rating'] == 'ALL')]\n",
    "        return rating1, len(data_filtrado)\n",
    "    elif rating == 'R':\n",
    "        data_filtrado = data[(data['rating'] == 'R')]\n",
    "        return rating1, len(data_filtrado)\n",
    "    elif rating == 'TV-Y':\n",
    "        data_filtrado = data[(data['rating'] == 'TV_Y')]\n",
    "        return rating1, len(data_filtrado)\n",
    "    elif rating == 'TV-Y7':\n",
    "        data_filtrado = data[(data['rating'] == 'TV-Y7')]\n",
    "        return rating1, len(data_filtrado)\n",
    "    elif rating == 'NR':\n",
    "        data_filtrado = data[(data['rating'] == 'NR')]\n",
    "        return rating1, len(data_filtrado)\n",
    "    elif rating == '16+':\n",
    "        data_filtrado = data[(data['rating'] == '16+')]\n",
    "        return rating1, len(data_filtrado)\n",
    "    elif rating == 'TV-PG':\n",
    "        data_filtrado = data[(data['rating'] == 'TV-PG')]\n",
    "        return rating1, len(data_filtrado)\n",
    "    elif rating == '7+':\n",
    "        data_filtrado = data[(data['rating'] == '7+')]\n",
    "        return rating1, len(data_filtrado)\n",
    "    elif rating == 'TV-14':\n",
    "        data_filtrado = data[(data['rating'] == 'TV-14')]\n",
    "        return rating1, len(data_filtrado)\n",
    "    elif rating == 'TV-NR':\n",
    "        data_filtrado = data[(data['rating'] == 'TV-NR')]\n",
    "        return rating1, len(data_filtrado)\n",
    "    elif rating == 'TV-G':\n",
    "        data_filtrado = data[(data['rating'] == 'TV-G')]\n",
    "        return rating1, len(data_filtrado)\n",
    "    elif rating == 'PG-13':\n",
    "        data_filtrado = data[(data['rating'] == 'PG-13')]\n",
    "        return rating1, len(data_filtrado)\n",
    "    elif rating == 'TV-MA':\n",
    "        data_filtrado = data[(data['rating'] == 'TV-MA')]\n",
    "        return rating1, len(data_filtrado)\n",
    "    elif rating == 'PG':\n",
    "        data_filtrado = data[(data['rating'] == 'PG')]\n",
    "        return rating1, len(data_filtrado)\n",
    "    elif rating == 'NC-17':\n",
    "        data_filtrado = data[(data['rating'] == 'NC-17')]\n",
    "        return rating1, len(data_filtrado)\n",
    "    elif rating == 'UNRATED':\n",
    "        data_filtrado = data[(data['rating'] == 'UNRATED')]\n",
    "        return rating1, len(data_filtrado)\n",
    "    elif rating == '16':\n",
    "        data_filtrado = data[(data['rating'] == '16')]\n",
    "        return rating1, len(data_filtrado)\n",
    "    elif rating == 'AGES_16':\n",
    "        data_filtrado = data[(data['rating'] == 'AGES_16')]\n",
    "        return rating1, len(data_filtrado)\n",
    "    elif rating == 'AGES_18':\n",
    "        data_filtrado = data[(data['rating'] == 'AGES_18')]\n",
    "        return rating1, len(data_filtrado)\n",
    "    elif rating == 'ALL_AGES':\n",
    "        data_filtrado = data[(data['rating'] == 'ALL_AGES')]\n",
    "        return rating1, len(data_filtrado)\n",
    "    elif rating == 'NOT_RATE':\n",
    "        data_filtrado = data[(data['rating'] == 'NOT_RATE')]\n",
    "        return rating1, len(data_filtrado)\n",
    "    elif rating == 'TV-Y7-FV':\n",
    "        data_filtrado = data[(data['rating'] == 'TV-Y7-FV')]\n",
    "        return rating1, len(data_filtrado)\n",
    "    elif rating == 'NOT RATED':\n",
    "        data_filtrado = data[(data['rating'] == 'NOT RATED')]\n",
    "        return rating1, len(data_filtrado)\n",
    "    elif rating == '2 Seasons':\n",
    "        data_filtrado = data[(data['rating'] == '2 Seasons')]\n",
    "        return rating1, len(data_filtrado)\n",
    "    elif rating == '93 min':\n",
    "        data_filtrado = data[(data['rating'] == '93 min')]\n",
    "        return rating1, len(data_filtrado)\n",
    "    elif rating == '4 Seasons':\n",
    "        data_filtrado = data[(data['rating'] == '4 Seasons')]\n",
    "        return rating1, len(data_filtrado)\n",
    "    elif rating == '136 min':\n",
    "        data_filtrado = data[(data['rating'] == '136 min')]\n",
    "        return rating1, len(data_filtrado)\n",
    "    elif rating == '91 min':\n",
    "        data_filtrado = data[(data['rating'] == '91 min')]\n",
    "        return rating1, len(data_filtrado)\n",
    "    elif rating == '85 min':\n",
    "        data_filtrado = data[(data['rating'] == '85 min')]\n",
    "        return rating1, len(data_filtrado)\n",
    "    elif rating == '98 min':\n",
    "        data_filtrado = data[(data['rating'] == '98 min')]\n",
    "        return rating1, len(data_filtrado)\n",
    "    elif rating == '89 min':\n",
    "        data_filtrado = data[(data['rating'] == '89 min')]\n",
    "        return rating1, len(data_filtrado)\n",
    "    elif rating == '94 min':\n",
    "        data_filtrado = data[(data['rating'] == '94 min')]\n",
    "        return rating1, len(data_filtrado)\n",
    "    elif rating == '86':\n",
    "        data_filtrado = data[(data['rating'] == '86')]\n",
    "        return rating1, len(data_filtrado)\n",
    "    elif rating == '3 Seasons':\n",
    "        data_filtrado = data[(data['rating'] == '3 Seasons')]\n",
    "        return rating1, len(data_filtrado)\n",
    "    elif rating == '121 min':\n",
    "        data_filtrado = data[(data['rating'] == '121 min')]\n",
    "        return rating1, len(data_filtrado)\n",
    "    elif rating == '88 min':\n",
    "        data_filtrado = data[(data['rating'] == '88 min')]\n",
    "        return rating1, len(data_filtrado)\n",
    "    elif rating == '101 min':\n",
    "        data_filtrado = data[(data['rating'] == '101 min')]\n",
    "        return rating1, len(data_filtrado)\n",
    "    elif rating == '1 Season':\n",
    "        data_filtrado = data[(data['rating'] == '1 Season')]\n",
    "        return rating1, len(data_filtrado)\n",
    "    elif rating == '83 min':\n",
    "        data_filtrado = data[(data['rating'] == '83 min')]\n",
    "        return rating1, len(data_filtrado)\n",
    "    elif rating == '100 min':\n",
    "        data_filtrado = data[(data['rating'] == '100 min')]\n",
    "        return rating1, len(data_filtrado)\n",
    "    elif rating == '95 min':\n",
    "        data_filtrado = data[(data['rating'] == '95 min')]\n",
    "        return rating1, len(data_filtrado)\n",
    "    elif rating == '92 min':\n",
    "        data_filtrado = data[(data['rating'] == '92 min')]\n",
    "        return rating1, len(data_filtrado)\n",
    "    elif rating == '96 min':\n",
    "        data_filtrado = data[(data['rating'] == '96 min')]\n",
    "        return rating1, len(data_filtrado)\n",
    "    elif rating == '109 min':\n",
    "        data_filtrado = data[(data['rating'] == '109 min')]\n",
    "        return rating1, len(data_filtrado)\n",
    "    elif rating == '99 min':\n",
    "        data_filtrado = data[(data['rating'] == '99 min')]\n",
    "        return rating1, len(data_filtrado)\n",
    "    elif rating == '75 min':\n",
    "        data_filtrado = data[(data['rating'] == '75 min')]\n",
    "        return rating1, len(data_filtrado)\n",
    "    elif rating == '87 min':\n",
    "        data_filtrado = data[(data['rating'] == '87 min')]\n",
    "        return rating1, len(data_filtrado)\n",
    "    elif rating == '67 min':\n",
    "        data_filtrado = data[(data['rating'] == '67 min')]\n",
    "        return rating1, len(data_filtrado)\n",
    "    elif rating == '104 min':\n",
    "        data_filtrado = data[(data['rating'] == '104 min')]\n",
    "        return rating1, len(data_filtrado)\n",
    "    elif rating == '107 min':\n",
    "        data_filtrado = data[(data['rating'] == '107 min')]\n",
    "        return rating1, len(data_filtrado)\n",
    "    elif rating == '84 min':\n",
    "        data_filtrado = data[(data['rating'] == '84 min')]\n",
    "        return rating1, len(data_filtrado)\n",
    "    elif rating == '103 min':\n",
    "        data_filtrado = data[(data['rating'] == '103 min')]\n",
    "        return rating1, len(data_filtrado)\n",
    "    elif rating == '105 min':\n",
    "        data_filtrado = data[(data['rating'] == '105 min')]\n",
    "        return rating1, len(data_filtrado)\n",
    "    elif rating == '119 min':\n",
    "        data_filtrado = data[(data['rating'] == '119 min')]\n",
    "        return rating1, len(data_filtrado)\n",
    "    elif rating == '114 min':\n",
    "        data_filtrado = data[(data['rating'] == '114 min')]\n",
    "        return rating1, len(data_filtrado)\n",
    "    elif rating == '82 min':\n",
    "        data_filtrado = data[(data['rating'] == '82 min')]\n",
    "        return rating1, len(data_filtrado)\n",
    "    elif rating == '90 min':\n",
    "        data_filtrado = data[(data['rating'] == '90 min')]\n",
    "        return rating1, len(data_filtrado)\n",
    "    elif rating == '130 min':\n",
    "        data_filtrado = data[(data['rating'] == '130 min')]\n",
    "        return rating1, len(data_filtrado)\n",
    "    elif rating == '110 min':\n",
    "        data_filtrado = data[(data['rating'] == '110 min')]\n",
    "        return rating1, len(data_filtrado)\n",
    "    elif rating == '80 min':\n",
    "        data_filtrado = data[(data['rating'] == '80 min')]\n",
    "        return rating1, len(data_filtrado)\n",
    "    elif rating == '6 Seasons':\n",
    "        data_filtrado = data[(data['rating'] == '6 Seasons')]\n",
    "        return rating1, len(data_filtrado)\n",
    "    elif rating == '97 min':\n",
    "        data_filtrado = data[(data['rating'] == '97 min')]\n",
    "        return rating1, len(data_filtrado)\n",
    "    elif rating == '111 min':\n",
    "        data_filtrado = data[(data['rating'] == '111 min')]\n",
    "        return rating1, len(data_filtrado)\n",
    "    elif rating == '81 min':\n",
    "        data_filtrado = data[(data['rating'] == '81 min')]\n",
    "        return rating1, len(data_filtrado)\n",
    "    elif rating == '49 min':\n",
    "        data_filtrado = data[(data['rating'] == '49 min')]\n",
    "        return rating1, len(data_filtrado)\n",
    "    elif rating == '45 min':\n",
    "        data_filtrado = data[(data['rating'] == '45 min')]\n",
    "        return rating1, len(data_filtrado)\n",
    "    elif rating == '41 min':\n",
    "        data_filtrado = data[(data['rating'] == '41 min')]\n",
    "        return rating1, len(data_filtrado)\n",
    "    elif rating == '73 min':\n",
    "        data_filtrado = data[(data['rating'] == '73 min')]\n",
    "        return rating1, len(data_filtrado)\n",
    "    elif rating == '40 min':\n",
    "        data_filtrado = data[(data['rating'] == '40 min')]\n",
    "        return rating1, len(data_filtrado)\n",
    "    elif rating == '36 min':\n",
    "        data_filtrado = data[(data['rating'] == '36 min')]\n",
    "        return rating1, len(data_filtrado)\n",
    "    elif rating == '39 min':\n",
    "        data_filtrado = data[(data['rating'] == '39 min')]\n",
    "        return rating1, len(data_filtrado)\n",
    "    elif rating == '34 min':\n",
    "        data_filtrado = data[(data['rating'] == '34 min')]\n",
    "        return rating1, len(data_filtrado)\n",
    "    elif rating == '47 min':\n",
    "        data_filtrado = data[(data['rating'] == '47 min')]\n",
    "        return rating1, len(data_filtrado)\n",
    "    elif rating == '65 min':\n",
    "        data_filtrado = data[(data['rating'] == '65 min')]\n",
    "        return rating1, len(data_filtrado)\n",
    "    elif rating == '37 min':\n",
    "        data_filtrado = data[(data['rating'] == '37 min')]\n",
    "        return rating1, len(data_filtrado)\n",
    "    elif rating == '78 min':\n",
    "        data_filtrado = data[(data['rating'] == '78 min')]\n",
    "        return rating1, len(data_filtrado)\n",
    "    elif rating == '102 min':\n",
    "        data_filtrado = data[(data['rating'] == '102 min')]\n",
    "        return rating1, len(data_filtrado)\n",
    "    elif rating == '129 min':\n",
    "        data_filtrado = data[(data['rating'] == '129 min')]\n",
    "        return rating1, len(data_filtrado)\n",
    "    elif rating == '115 min':\n",
    "        data_filtrado = data[(data['rating'] == '115 min')]\n",
    "        return rating1, len(data_filtrado)\n",
    "    elif rating == '112 min':\n",
    "        data_filtrado = data[(data['rating'] == '112 min')]\n",
    "        return rating1, len(data_filtrado)\n",
    "    elif rating == '61 min':\n",
    "        data_filtrado = data[(data['rating'] == '61 min')]\n",
    "        return rating1, len(data_filtrado)\n",
    "    elif rating == '106 min':\n",
    "        data_filtrado = data[(data['rating'] == '106 min')]\n",
    "        return rating1, len(data_filtrado)\n",
    "    elif rating == '76 min':\n",
    "        data_filtrado = data[(data['rating'] == '76 min')]\n",
    "        return rating1, len(data_filtrado)\n",
    "    elif rating == '77 min':\n",
    "        data_filtrado = data[(data['rating'] == '77 min')]\n",
    "        return rating1, len(data_filtrado)\n",
    "    elif rating == '79 min':\n",
    "        data_filtrado = data[(data['rating'] == '79 min')]\n",
    "        return rating1, len(data_filtrado)\n",
    "    elif rating == '157 min':\n",
    "        data_filtrado = data[(data['rating'] == '157 min')]\n",
    "        return rating1, len(data_filtrado)\n",
    "    elif rating == '28 min':\n",
    "        data_filtrado = data[(data['rating'] == '28 min')]\n",
    "        return rating1, len(data_filtrado)\n",
    "    elif rating == '64 min':\n",
    "        data_filtrado = data[(data['rating'] == '64 min')]\n",
    "        return rating1, len(data_filtrado)\n",
    "    elif rating == '7 min':\n",
    "        data_filtrado = data[(data['rating'] == '7 min')]\n",
    "        return rating1, len(data_filtrado)\n",
    "    elif rating == '5 min':\n",
    "        data_filtrado = data[(data['rating'] == '5 min')]\n",
    "        return rating1, len(data_filtrado)\n",
    "    elif rating == '6 min':\n",
    "        data_filtrado = data[(data['rating'] == '6 min')]\n",
    "        return rating1, len(data_filtrado)\n",
    "    elif rating == '127 min':\n",
    "        data_filtrado = data[(data['rating'] == '127 min')]\n",
    "        return rating1, len(data_filtrado)\n",
    "    elif rating == '142 min':\n",
    "        data_filtrado = data[(data['rating'] == '142 min')]\n",
    "        return rating1, len(data_filtrado)\n",
    "    elif rating == '108 min':\n",
    "        data_filtrado = data[(data['rating'] == '108 min')]\n",
    "        return rating1, len(data_filtrado)\n",
    "    elif rating == '57 min':\n",
    "        data_filtrado = data[(data['rating'] == '57 min')]\n",
    "        return rating1, len(data_filtrado)\n",
    "    elif rating == '118 min':\n",
    "        data_filtrado = data[(data['rating'] == '118 min')]\n",
    "        return rating1, len(data_filtrado)\n",
    "    elif rating == '116 min':\n",
    "        data_filtrado = data[(data['rating'] == '116 min')]\n",
    "        return rating1, len(data_filtrado)\n",
    "    elif rating == '12 Seasons':\n",
    "        data_filtrado = data[(data['rating'] == '12 Seasons')]\n",
    "        return rating1, len(data_filtrado)\n",
    "    elif rating == '71 min':\n",
    "        data_filtrado = data[(data['rating'] == '71 min')]\n",
    "        return rating1, len(data_filtrado)\n",
    "    elif rating == '74 min':\n",
    "        data_filtrado = data[(data['rating'] == '74 min')]\n",
    "        return rating1, len(data_filtrado)\n",
    "    elif rating == '66 min':\n",
    "        data_filtrado = data[(data['rating'] == '66 min')]\n",
    "        return rating1, len(data_filtrado)\n",
    "    elif rating == 'UR':\n",
    "        data_filtrado = data[(data['rating'] == 'UR')]\n",
    "        return rating1, len(data_filtrado)\n",
    "    else:\n",
    "        return 'El rating que buscas no se encuentra en nuestra base de datos'\n",
    "    \n"
   ]
  },
  {
   "cell_type": "code",
   "execution_count": 412,
   "metadata": {},
   "outputs": [
    {
     "name": "stdout",
     "output_type": "stream",
     "text": [
      "['G', '13+', 'ALL', '18+', 'R', 'TV-Y', 'TV-Y7', 'NR', '16+', 'TV-PG', '7+', 'TV-14', 'TV-NR', 'TV-G', 'PG-13', 'TV-MA', 'PG', 'NC-17', 'UNRATED', '16', 'AGES_16_', 'AGES_18_', 'ALL_AGES', 'NOT_RATE', 'TV-Y7-FV', 'NOT RATED', '2 Seasons', '93 min', '4 Seasons', '136 min', '91 min', '85 min', '98 min', '89 min', '94 min', '86 min', '3 Seasons', '121 min', '88 min', '101 min', '1 Season', '83 min', '100 min', '95 min', '92 min', '96 min', '109 min', '99 min', '75 min', '87 min', '67 min', '104 min', '107 min', '84 min', '103 min', '105 min', '119 min', '114 min', '82 min', '90 min', '130 min', '110 min', '80 min', '6 Seasons', '97 min', '111 min', '81 min', '49 min', '45 min', '41 min', '73 min', '40 min', '36 min', '39 min', '34 min', '47 min', '65 min', '37 min', '78 min', '102 min', '129 min', '115 min', '112 min', '61 min', '106 min', '76 min', '77 min', '79 min', '157 min', '28 min', '64 min', '7 min', '5 min', '6 min', '127 min', '142 min', '108 min', '57 min', '118 min', '116 min', '12 Seasons', '71 min', '74 min', '66 min', 'UR']\n"
     ]
    }
   ],
   "source": [
    "print(data2)"
   ]
  },
  {
   "cell_type": "code",
   "execution_count": 430,
   "metadata": {},
   "outputs": [
    {
     "data": {
      "text/plain": [
       "'El rating que buscas no se encuentra en nuestra base de datos'"
      ]
     },
     "execution_count": 430,
     "metadata": {},
     "output_type": "execute_result"
    }
   ],
   "source": [
    "get_rating_count('XXX')"
   ]
  }
 ],
 "metadata": {
  "kernelspec": {
   "display_name": "Python 3",
   "language": "python",
   "name": "python3"
  },
  "language_info": {
   "codemirror_mode": {
    "name": "ipython",
    "version": 3
   },
   "file_extension": ".py",
   "mimetype": "text/x-python",
   "name": "python",
   "nbconvert_exporter": "python",
   "pygments_lexer": "ipython3",
   "version": "3.10.9 (tags/v3.10.9:1dd9be6, Dec  6 2022, 20:01:21) [MSC v.1934 64 bit (AMD64)]"
  },
  "orig_nbformat": 4,
  "vscode": {
   "interpreter": {
    "hash": "66eba28a75a64fbe1a9b9c30d27f7c856726c51cbbef86297708eae4ce175db0"
   }
  }
 },
 "nbformat": 4,
 "nbformat_minor": 2
}
